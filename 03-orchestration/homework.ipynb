{
 "cells": [
  {
   "cell_type": "markdown",
   "id": "f106ba41",
   "metadata": {},
   "source": [
    "MLOps Zoomcamp Homework 3"
   ]
  },
  {
   "cell_type": "markdown",
   "id": "34241fc0",
   "metadata": {},
   "source": [
    "Data - NYC Taxi dataset:\n",
    "\n",
    "Yellow Taxi Trip Records - Mar 2023\n",
    "- https://d37ci6vzurychx.cloudfront.net/trip-data/yellow_tripdata_2023-03.parquet"
   ]
  },
  {
   "cell_type": "code",
   "execution_count": null,
   "id": "21c513ca",
   "metadata": {},
   "outputs": [],
   "source": [
    "! pwd"
   ]
  },
  {
   "cell_type": "markdown",
   "id": "fe82ceef",
   "metadata": {},
   "source": [
    "## Q1. Select the Tool\n",
    "\n",
    "Install Mage"
   ]
  },
  {
   "cell_type": "markdown",
   "id": "f199bd35",
   "metadata": {},
   "source": [
    "## Q2. Version\n",
    "\n",
    "What is the version of the orchestrator you chose?"
   ]
  },
  {
   "cell_type": "code",
   "execution_count": null,
   "id": "2824f4bb",
   "metadata": {},
   "outputs": [],
   "source": []
  },
  {
   "cell_type": "markdown",
   "id": "8cd6556d",
   "metadata": {},
   "source": [
    "## Q3. Creating a pipeline\n",
    "\n",
    "Read the March 2023 Yellow taxi trips data.\n",
    "\n",
    "How many records did we load?"
   ]
  },
  {
   "cell_type": "code",
   "execution_count": null,
   "id": "3553d212",
   "metadata": {},
   "outputs": [],
   "source": []
  },
  {
   "cell_type": "markdown",
   "id": "fc46ce4c",
   "metadata": {},
   "source": [
    "## Q4. Data preparation\n",
    "\n",
    "Continue with pipeline creation.\n",
    "\n",
    "We will use the same logic for preparing the data we used previously.\n",
    "\n",
    "What's the size of the result?"
   ]
  },
  {
   "cell_type": "code",
   "execution_count": null,
   "id": "39e7a831",
   "metadata": {},
   "outputs": [],
   "source": []
  },
  {
   "cell_type": "markdown",
   "id": "011d2559",
   "metadata": {},
   "source": [
    "## Q5. Train a model\n",
    "\n",
    "Train a linear regression model using the same code as in homework 1\n",
    "- Fit a dict vectorizer.\n",
    "- Train a linear regression with default parameters.\n",
    "- Use pick up and drop off locations separately, don't create a combination feature.\n",
    "\n",
    "Use it in the pipeline. We will need to create another transformation block, and return both the dict vectorizer and the model.\n",
    "\n",
    "What's the intercept of the model? Hint: print the `intercept_` field in the code block"
   ]
  },
  {
   "cell_type": "code",
   "execution_count": null,
   "id": "1940b17c",
   "metadata": {},
   "outputs": [],
   "source": []
  },
  {
   "cell_type": "markdown",
   "id": "20100349",
   "metadata": {},
   "source": [
    "## Q6. Register the model\n",
    "\n",
    "Save the trained model with MLFlow.\n",
    "\n",
    "What is the size of the model? (Refer to the `model_size_bytes` field.)"
   ]
  }
 ],
 "metadata": {
  "language_info": {
   "name": "python"
  }
 },
 "nbformat": 4,
 "nbformat_minor": 5
}
