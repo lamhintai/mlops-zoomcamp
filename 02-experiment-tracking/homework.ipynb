{
 "cells": [
  {
   "cell_type": "markdown",
   "id": "4e75d1c8",
   "metadata": {},
   "source": [
    "MLOps Zoomcamp Homework 2"
   ]
  },
  {
   "cell_type": "markdown",
   "id": "34a5a02d",
   "metadata": {},
   "source": [
    "Data - NYC Taxi dataset:\n",
    "\n",
    "Green Taxi Trip Records - Jan, Feb & Mar 2023\n",
    "- https://d37ci6vzurychx.cloudfront.net/trip-data/green_tripdata_2023-01.parquet\n",
    "- https://d37ci6vzurychx.cloudfront.net/trip-data/green_tripdata_2023-02.parquet\n",
    "- https://d37ci6vzurychx.cloudfront.net/trip-data/green_tripdata_2023-03.parquet"
   ]
  },
  {
   "cell_type": "code",
   "execution_count": 1,
   "id": "699d6308",
   "metadata": {},
   "outputs": [
    {
     "name": "stdout",
     "output_type": "stream",
     "text": [
      "/workspaces/mlops-zoomcamp/02-experiment-tracking\n"
     ]
    }
   ],
   "source": [
    "! pwd"
   ]
  },
  {
   "cell_type": "markdown",
   "id": "c4e347f6",
   "metadata": {},
   "source": [
    "## Q1. Install MLflow\n",
    "\n",
    "Check the installed version."
   ]
  },
  {
   "cell_type": "code",
   "execution_count": 2,
   "id": "5e8cb637",
   "metadata": {},
   "outputs": [
    {
     "name": "stdout",
     "output_type": "stream",
     "text": [
      "mlflow, version 2.22.0\n"
     ]
    }
   ],
   "source": [
    "! mlflow --version"
   ]
  },
  {
   "cell_type": "markdown",
   "id": "7bd78dba",
   "metadata": {},
   "source": [
    "## Q2. Download and preprocess the data\n",
    "\n",
    "Download the datasets and then execute this command:\n",
    "\n",
    "```sh\n",
    "python preprocess_data.py --raw_data_path <TAXI_DATA_FOLDER> --dest_path ./output\n",
    "```\n",
    "\n",
    "How many files were saved to OUTPUT_FOLDER?"
   ]
  },
  {
   "cell_type": "code",
   "execution_count": 3,
   "id": "06508f52",
   "metadata": {},
   "outputs": [
    {
     "name": "stdout",
     "output_type": "stream",
     "text": [
      "File ‘taxi_data/green_tripdata_2023-01.parquet’ already there; not retrieving.\n",
      "\n",
      "File ‘taxi_data/green_tripdata_2023-02.parquet’ already there; not retrieving.\n",
      "\n",
      "File ‘taxi_data/green_tripdata_2023-03.parquet’ already there; not retrieving.\n",
      "\n"
     ]
    }
   ],
   "source": [
    "# Download the prepared scripts\n",
    "! wget -nc -P taxi_data https://d37ci6vzurychx.cloudfront.net/trip-data/green_tripdata_2023-01.parquet\n",
    "! wget -nc -P taxi_data https://d37ci6vzurychx.cloudfront.net/trip-data/green_tripdata_2023-02.parquet\n",
    "! wget -nc -P taxi_data https://d37ci6vzurychx.cloudfront.net/trip-data/green_tripdata_2023-03.parquet"
   ]
  },
  {
   "cell_type": "code",
   "execution_count": 4,
   "id": "37e55024",
   "metadata": {},
   "outputs": [],
   "source": [
    "! python homework_scripts/preprocess_data.py --raw_data_path taxi_data --dest_path ./output"
   ]
  },
  {
   "cell_type": "code",
   "execution_count": 5,
   "id": "fe4fe349",
   "metadata": {},
   "outputs": [
    {
     "name": "stdout",
     "output_type": "stream",
     "text": [
      "dv.pkl\ttest.pkl  train.pkl  val.pkl\n"
     ]
    }
   ],
   "source": [
    "! ls ./output"
   ]
  },
  {
   "cell_type": "markdown",
   "id": "153a1c23",
   "metadata": {},
   "source": [
    "There are 4 files generated in total."
   ]
  },
  {
   "cell_type": "markdown",
   "id": "69ee6fe0",
   "metadata": {},
   "source": [
    "## Q3. Train a model with autolog\n",
    "\n",
    "Train a RamdonForestRegressor (from Scikit-Learn) on the taxi dataset, based on the provided training script `train.py`.\n",
    "\n",
    "The script will:\n",
    "- load the datasets produced by the previous step,\n",
    "- train the model on the training set,\n",
    "- calculate the RMSE score on the validation set.\n",
    "\n",
    "Your task is to modify the script to enable autologging with MLflow, execute the script and then launch the MLflow UI to check that the experiment run was properly tracked.\n",
    "\n",
    "What is the value of the `min_samples_split` parameter?"
   ]
  },
  {
   "cell_type": "code",
   "execution_count": 6,
   "id": "90d779a1",
   "metadata": {},
   "outputs": [
    {
     "name": "stdout",
     "output_type": "stream",
     "text": [
      "2025/05/26 17:17:57 INFO mlflow.tracking.fluent: Autologging successfully enabled for sklearn.\n"
     ]
    }
   ],
   "source": [
    "! python homework_scripts/train.py --data_path ./output"
   ]
  },
  {
   "cell_type": "markdown",
   "id": "d324622a",
   "metadata": {},
   "source": [
    "Go to the MLflow UI to check the parameters:\n",
    "\n",
    "```sh\n",
    "mlflow ui --backend-store-uri sqlite:///mlflow.db\n",
    "```"
   ]
  },
  {
   "cell_type": "markdown",
   "id": "69989b3e",
   "metadata": {},
   "source": [
    "`min_samples_split` = 2"
   ]
  },
  {
   "cell_type": "markdown",
   "id": "604c6891",
   "metadata": {},
   "source": [
    "## Q4. Launch the traccking server locally\n",
    "\n",
    "Perform the following to manage the whole experiment lifecycle, e.g. have access to the model registry:\n",
    "- launch the tracking server on your local machine\n",
    "- select a SQLite db for the backend store and a folder called artifacts for the artifacts store.\n",
    "\n",
    "You should keep the tracking server running to work on the next two exercises that use the server.\n",
    "\n",
    "In addition to backend-store-uri, what else do you need to pass to properly configure the server?\n",
    "\n",
    "- `default-artifact-root`\n",
    "- `serve-artifacts`\n",
    "- `artifacts-only`\n",
    "- `artifacts-destination`"
   ]
  },
  {
   "cell_type": "markdown",
   "id": "01bc7839",
   "metadata": {},
   "source": [
    "We need to specify `default-artifact-root` to save the models.\n",
    "\n",
    "```sh\n",
    "mlflow server \\\n",
    "  --backend-store-uri sqlite:///mlflow.db \\\n",
    "  --default-artifact-root /workspaces/mlops-zoomcamp/02-experiment-tracking/models \\\n",
    "  --host 0.0.0.0 \\\n",
    "  --port 5001\n",
    "```"
   ]
  },
  {
   "cell_type": "markdown",
   "id": "365b91fc",
   "metadata": {},
   "source": [
    "## Q5. Tune model hyperparameters"
   ]
  },
  {
   "cell_type": "code",
   "execution_count": null,
   "id": "f3742c74",
   "metadata": {},
   "outputs": [],
   "source": []
  },
  {
   "cell_type": "markdown",
   "id": "e04b63ad",
   "metadata": {},
   "source": [
    "## Q6. Promote the best model to the model registry"
   ]
  },
  {
   "cell_type": "markdown",
   "id": "7c2d2beb",
   "metadata": {},
   "source": []
  }
 ],
 "metadata": {
  "kernelspec": {
   "display_name": "Python 3",
   "language": "python",
   "name": "python3"
  },
  "language_info": {
   "codemirror_mode": {
    "name": "ipython",
    "version": 3
   },
   "file_extension": ".py",
   "mimetype": "text/x-python",
   "name": "python",
   "nbconvert_exporter": "python",
   "pygments_lexer": "ipython3",
   "version": "3.13.3"
  }
 },
 "nbformat": 4,
 "nbformat_minor": 5
}
