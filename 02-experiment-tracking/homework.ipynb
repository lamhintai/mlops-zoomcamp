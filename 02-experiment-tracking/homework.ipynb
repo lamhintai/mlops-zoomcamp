{
 "cells": [
  {
   "cell_type": "markdown",
   "id": "4e75d1c8",
   "metadata": {},
   "source": [
    "MLOps Zoomcamp Homework 2"
   ]
  },
  {
   "cell_type": "markdown",
   "id": "34a5a02d",
   "metadata": {},
   "source": [
    "Data - NYC Taxi dataset:\n",
    "\n",
    "Green Taxi Trip Records - Jan, Feb & Mar 2023\n",
    "- https://d37ci6vzurychx.cloudfront.net/trip-data/green_tripdata_2023-01.parquet\n",
    "- https://d37ci6vzurychx.cloudfront.net/trip-data/green_tripdata_2023-02.parquet\n",
    "- https://d37ci6vzurychx.cloudfront.net/trip-data/green_tripdata_2023-03.parquet"
   ]
  },
  {
   "cell_type": "code",
   "execution_count": 1,
   "id": "699d6308",
   "metadata": {},
   "outputs": [
    {
     "name": "stdout",
     "output_type": "stream",
     "text": [
      "/workspaces/mlops-zoomcamp/02-experiment-tracking\n"
     ]
    }
   ],
   "source": [
    "! pwd"
   ]
  },
  {
   "cell_type": "markdown",
   "id": "c4e347f6",
   "metadata": {},
   "source": [
    "## Q1. Install MLflow\n",
    "\n",
    "Check the installed version."
   ]
  },
  {
   "cell_type": "code",
   "execution_count": 2,
   "id": "5e8cb637",
   "metadata": {},
   "outputs": [
    {
     "name": "stdout",
     "output_type": "stream",
     "text": [
      "mlflow, version 2.22.0\n"
     ]
    }
   ],
   "source": [
    "! mlflow --version"
   ]
  },
  {
   "cell_type": "markdown",
   "id": "7bd78dba",
   "metadata": {},
   "source": [
    "## Q2. Download and preprocess the data\n",
    "\n",
    "Download the datasets and then execute this command:\n",
    "\n",
    "```sh\n",
    "python preprocess_data.py --raw_data_path <TAXI_DATA_FOLDER> --dest_path ./output\n",
    "```\n",
    "\n",
    "How many files were saved to OUTPUT_FOLDER?"
   ]
  },
  {
   "cell_type": "code",
   "execution_count": 3,
   "id": "06508f52",
   "metadata": {},
   "outputs": [
    {
     "name": "stdout",
     "output_type": "stream",
     "text": [
      "File ‘taxi_data/green_tripdata_2023-01.parquet’ already there; not retrieving.\n",
      "\n",
      "File ‘taxi_data/green_tripdata_2023-02.parquet’ already there; not retrieving.\n",
      "\n",
      "File ‘taxi_data/green_tripdata_2023-03.parquet’ already there; not retrieving.\n",
      "\n"
     ]
    }
   ],
   "source": [
    "# Download the prepared scripts\n",
    "! wget -nc -P taxi_data https://d37ci6vzurychx.cloudfront.net/trip-data/green_tripdata_2023-01.parquet\n",
    "! wget -nc -P taxi_data https://d37ci6vzurychx.cloudfront.net/trip-data/green_tripdata_2023-02.parquet\n",
    "! wget -nc -P taxi_data https://d37ci6vzurychx.cloudfront.net/trip-data/green_tripdata_2023-03.parquet"
   ]
  },
  {
   "cell_type": "code",
   "execution_count": 4,
   "id": "37e55024",
   "metadata": {},
   "outputs": [],
   "source": [
    "! python homework_scripts/preprocess_data.py --raw_data_path taxi_data --dest_path ./output"
   ]
  },
  {
   "cell_type": "code",
   "execution_count": 5,
   "id": "fe4fe349",
   "metadata": {},
   "outputs": [
    {
     "name": "stdout",
     "output_type": "stream",
     "text": [
      "dv.pkl\ttest.pkl  train.pkl  val.pkl\n"
     ]
    }
   ],
   "source": [
    "! ls ./output"
   ]
  },
  {
   "cell_type": "markdown",
   "id": "153a1c23",
   "metadata": {},
   "source": [
    "There are 4 files generated in total."
   ]
  },
  {
   "cell_type": "markdown",
   "id": "69ee6fe0",
   "metadata": {},
   "source": [
    "## Q3. Train a model with autolog\n",
    "\n",
    "Train a RamdonForestRegressor (from Scikit-Learn) on the taxi dataset, based on the provided training script `train.py`.\n",
    "\n",
    "The script will:\n",
    "- load the datasets produced by the previous step,\n",
    "- train the model on the training set,\n",
    "- calculate the RMSE score on the validation set.\n",
    "\n",
    "Your task is to modify the script to enable autologging with MLflow, execute the script and then launch the MLflow UI to check that the experiment run was properly tracked.\n",
    "\n",
    "What is the value of the `min_samples_split` parameter?"
   ]
  },
  {
   "cell_type": "code",
   "execution_count": 6,
   "id": "90d779a1",
   "metadata": {},
   "outputs": [
    {
     "name": "stdout",
     "output_type": "stream",
     "text": [
      "2025/05/26 17:17:57 INFO mlflow.tracking.fluent: Autologging successfully enabled for sklearn.\n"
     ]
    }
   ],
   "source": [
    "! python homework_scripts/train.py --data_path ./output"
   ]
  },
  {
   "cell_type": "markdown",
   "id": "d324622a",
   "metadata": {},
   "source": [
    "Go to the MLflow UI to check the parameters:\n",
    "\n",
    "```sh\n",
    "mlflow ui --backend-store-uri sqlite:///mlflow.db\n",
    "```"
   ]
  },
  {
   "cell_type": "markdown",
   "id": "69989b3e",
   "metadata": {},
   "source": [
    "`min_samples_split` = 2"
   ]
  },
  {
   "cell_type": "markdown",
   "id": "604c6891",
   "metadata": {},
   "source": [
    "## Q4. Launch the tracking server locally\n",
    "\n",
    "Perform the following to manage the whole experiment lifecycle, e.g. have access to the model registry:\n",
    "- launch the tracking server on your local machine\n",
    "- select a SQLite db for the backend store and a folder called artifacts for the artifacts store.\n",
    "\n",
    "You should keep the tracking server running to work on the next two exercises that use the server.\n",
    "\n",
    "In addition to backend-store-uri, what else do you need to pass to properly configure the server?\n",
    "\n",
    "- `default-artifact-root`\n",
    "- `serve-artifacts`\n",
    "- `artifacts-only`\n",
    "- `artifacts-destination`"
   ]
  },
  {
   "cell_type": "markdown",
   "id": "01bc7839",
   "metadata": {},
   "source": [
    "We need to specify `default-artifact-root` to save the models.\n",
    "\n",
    "```sh\n",
    "mlflow server \\\n",
    "  --backend-store-uri sqlite:////workspaces/mlops-zoomcamp/02-experiment-tracking/mlflow.db \\\n",
    "  --default-artifact-root /workspaces/mlops-zoomcamp/02-experiment-tracking/models \\\n",
    "  --host 0.0.0.0 \\\n",
    "  --port 5000\n",
    "```"
   ]
  },
  {
   "cell_type": "markdown",
   "id": "365b91fc",
   "metadata": {},
   "source": [
    "## Q5. Tune model hyperparameters"
   ]
  },
  {
   "cell_type": "code",
   "execution_count": 3,
   "id": "f3742c74",
   "metadata": {},
   "outputs": [
    {
     "name": "stdout",
     "output_type": "stream",
     "text": [
      "2025/05/27 11:47:21 INFO mlflow.tracking.fluent: Experiment with name 'random-forest-hyperopt' does not exist. Creating a new experiment.\n",
      "🏃 View run adorable-bear-966 at: http://127.0.0.1:5000/#/experiments/2/runs/43145edfe4f24f1cbf4d5124996b8f8b\n",
      "\n",
      "🧪 View experiment at: http://127.0.0.1:5000/#/experiments/2                    \n",
      "\n",
      "🏃 View run valuable-jay-172 at: http://127.0.0.1:5000/#/experiments/2/runs/5bd04eea9a87448494be59d09ebf2194\n",
      "\n",
      "🧪 View experiment at: http://127.0.0.1:5000/#/experiments/2                    \n",
      "\n",
      "🏃 View run overjoyed-fly-407 at: http://127.0.0.1:5000/#/experiments/2/runs/44f62935c36843ffb079a901b6a06854\n",
      "\n",
      "🧪 View experiment at: http://127.0.0.1:5000/#/experiments/2                    \n",
      "\n",
      "🏃 View run powerful-hen-799 at: http://127.0.0.1:5000/#/experiments/2/runs/c4bc574dcd9a42bf856a013667fed40c\n",
      "\n",
      "🧪 View experiment at: http://127.0.0.1:5000/#/experiments/2                    \n",
      "\n",
      "🏃 View run judicious-shrike-590 at: http://127.0.0.1:5000/#/experiments/2/runs/97e5a2f0702443b58a8fe29af998db15\n",
      "\n",
      "🧪 View experiment at: http://127.0.0.1:5000/#/experiments/2                    \n",
      "\n",
      "🏃 View run debonair-vole-730 at: http://127.0.0.1:5000/#/experiments/2/runs/0c6c8e42646143e29b2ae796f6a08b77\n",
      "\n",
      "🧪 View experiment at: http://127.0.0.1:5000/#/experiments/2                    \n",
      "\n",
      "🏃 View run calm-crow-125 at: http://127.0.0.1:5000/#/experiments/2/runs/4d09764158c949a8b71a11b2fd863fed\n",
      "\n",
      "🧪 View experiment at: http://127.0.0.1:5000/#/experiments/2                    \n",
      "\n",
      "🏃 View run beautiful-cat-235 at: http://127.0.0.1:5000/#/experiments/2/runs/385525ec354b4cc4af6c3830d8e58e94\n",
      "\n",
      "🧪 View experiment at: http://127.0.0.1:5000/#/experiments/2                    \n",
      "\n",
      "🏃 View run youthful-skunk-438 at: http://127.0.0.1:5000/#/experiments/2/runs/c70424ec32cc421e96d7d1b8397d8f37\n",
      "\n",
      "🧪 View experiment at: http://127.0.0.1:5000/#/experiments/2                    \n",
      "\n",
      "🏃 View run bold-fox-184 at: http://127.0.0.1:5000/#/experiments/2/runs/bd7e87ae264e4f32aa31feb73678fdad\n",
      "\n",
      "🧪 View experiment at: http://127.0.0.1:5000/#/experiments/2                    \n",
      "\n",
      "🏃 View run salty-snail-365 at: http://127.0.0.1:5000/#/experiments/2/runs/6c003fdc638643ec95413757b6350132\n",
      "\n",
      "🧪 View experiment at: http://127.0.0.1:5000/#/experiments/2                    \n",
      "\n",
      "🏃 View run indecisive-fox-490 at: http://127.0.0.1:5000/#/experiments/2/runs/4e2a811c11ba4ff2858fab49717077f4\n",
      "\n",
      "🧪 View experiment at: http://127.0.0.1:5000/#/experiments/2                    \n",
      "\n",
      "🏃 View run unequaled-grub-419 at: http://127.0.0.1:5000/#/experiments/2/runs/80512eec4e014baf8aa0876245ededaa\n",
      "\n",
      "🧪 View experiment at: http://127.0.0.1:5000/#/experiments/2                    \n",
      "\n",
      "🏃 View run delightful-gnu-952 at: http://127.0.0.1:5000/#/experiments/2/runs/0c81afd1ff9942ce8e131c5031763748\n",
      "\n",
      "🧪 View experiment at: http://127.0.0.1:5000/#/experiments/2                    \n",
      "\n",
      "🏃 View run nimble-crab-828 at: http://127.0.0.1:5000/#/experiments/2/runs/7c8174a00ac542f183f94cf39f80f572\n",
      "\n",
      "🧪 View experiment at: http://127.0.0.1:5000/#/experiments/2                    \n",
      "\n",
      "100%|██████████| 15/15 [01:04<00:00,  4.33s/trial, best loss: 5.335419588556921]\n"
     ]
    }
   ],
   "source": [
    "! python homework_scripts/hpo.py"
   ]
  },
  {
   "cell_type": "markdown",
   "id": "e04b63ad",
   "metadata": {},
   "source": [
    "## Q6. Promote the best model to the model registry"
   ]
  },
  {
   "cell_type": "code",
   "execution_count": 2,
   "id": "7c2d2beb",
   "metadata": {},
   "outputs": [
    {
     "name": "stdout",
     "output_type": "stream",
     "text": [
      "2025/05/28 07:19:43 INFO mlflow.tracking.fluent: Experiment with name 'random-forest-best-models' does not exist. Creating a new experiment.\n",
      "🏃 View run classy-trout-10 at: http://127.0.0.1:5000/#/experiments/3/runs/32f3375eedd94af2b51a7392f830e5ce\n",
      "🧪 View experiment at: http://127.0.0.1:5000/#/experiments/3\n",
      "🏃 View run selective-hog-130 at: http://127.0.0.1:5000/#/experiments/3/runs/dd5751aead4248ecae0057d873a96900\n",
      "🧪 View experiment at: http://127.0.0.1:5000/#/experiments/3\n",
      "🏃 View run melodic-eel-201 at: http://127.0.0.1:5000/#/experiments/3/runs/caf56de8a5924860b52f927afd99657a\n",
      "🧪 View experiment at: http://127.0.0.1:5000/#/experiments/3\n",
      "🏃 View run serious-kit-655 at: http://127.0.0.1:5000/#/experiments/3/runs/d65ae6e8a8fb45f580c5efd33a49549e\n",
      "🧪 View experiment at: http://127.0.0.1:5000/#/experiments/3\n",
      "🏃 View run fun-moth-775 at: http://127.0.0.1:5000/#/experiments/3/runs/088031ce98e44e0a8a5f78410e18d9b4\n",
      "🧪 View experiment at: http://127.0.0.1:5000/#/experiments/3\n",
      "Best run id: 088031ce98e44e0a8a5f78410e18d9b4, test_rmse: 5.567408012462019\n",
      "Successfully registered model 'random-forest-best-model'.\n",
      "2025/05/28 07:20:28 INFO mlflow.store.model_registry.abstract_store: Waiting up to 300 seconds for model version to finish creation. Model name: random-forest-best-model, version 1\n",
      "Created version '1' of model 'random-forest-best-model'.\n"
     ]
    }
   ],
   "source": [
    "! python homework_scripts/register_model.py"
   ]
  }
 ],
 "metadata": {
  "kernelspec": {
   "display_name": "Python 3",
   "language": "python",
   "name": "python3"
  },
  "language_info": {
   "codemirror_mode": {
    "name": "ipython",
    "version": 3
   },
   "file_extension": ".py",
   "mimetype": "text/x-python",
   "name": "python",
   "nbconvert_exporter": "python",
   "pygments_lexer": "ipython3",
   "version": "3.13.3"
  }
 },
 "nbformat": 4,
 "nbformat_minor": 5
}
